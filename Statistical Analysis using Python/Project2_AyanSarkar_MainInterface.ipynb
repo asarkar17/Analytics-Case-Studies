{
 "cells": [
  {
   "cell_type": "code",
   "execution_count": 2,
   "metadata": {},
   "outputs": [
    {
     "name": "stdout",
     "output_type": "stream",
     "text": [
      "Enter the path the files are placed on: C:\\\\Users\\\\ayans\\\\Documents\n"
     ]
    }
   ],
   "source": [
    "import pandas as pd\n",
    "import matplotlib.pyplot as plt\n",
    "import numpy as np\n",
    "from pandas import Series, DataFrame\n",
    "import tkinter as tk\n",
    "from scipy import stats\n",
    "import plotly.plotly as py            #using package to draw pie chart which was not discussed in class\n",
    "import plotly.graph_objs as go        #using package to add style to the pie chart which was not discussed in class\n",
    "from statsmodels.formula.api import ols\n",
    "\n",
    "import FPFunctions_AyanSarkar as func     #Calling the script which has reusable functions\n",
    " \n",
    "import os\n",
    "\n",
    "#Asking the users for the file details\n",
    "filepath=input(\"Enter the path the files are placed on: \")\n",
    "os.chdir(filepath)\n",
    "\n",
    "#Reading the input files about Hoise Sales in Denver Area\n",
    "HouseSalesData = pd.read_excel('HouseSales.xlsx')\n"
   ]
  },
  {
   "cell_type": "code",
   "execution_count": 38,
   "metadata": {},
   "outputs": [
    {
     "data": {
      "image/png": "[encoded data removed]",
      "text/plain": [
       "<Figure size 432x288 with 1 Axes>"
      ]
     },
     "metadata": {},
     "output_type": "display_data"
    },
    {
     "data": {
      "text/plain": [
       "''"
      ]
     },
     "execution_count": 38,
     "metadata": {},
     "output_type": "execute_result"
    }
   ],
   "source": [
    "\n",
    "\n",
    "#Asking the user their choices for data exploration\n",
    "\n",
    "root2 = tk.Tk()\n",
    "root2.title('House Sales Data Analysis')\n",
    "root2.geometry('700x300+400+250') \n",
    "v = tk.IntVar()\n",
    "v.set(0)  # initializing the choice, i.e. \n",
    "\n",
    "menuchoices = [\n",
    "    \"View first 5 lines of the Input Data\",\n",
    "    \"Average Square feet for the number of Bed rooms in the property\",\n",
    "    \"Average Celing Height for the number of Bed rooms in the property\",\n",
    "    \"Number of Farms, Meadows & Attached Garages for the number of Bed rooms in the property\",\n",
    "    \"Correlation between Property Square Feet and the profit of a sale\",\n",
    "    \"Compare Profits for Sales of properties having bedroom numbers of 4 and 5\",\n",
    "    \"Compare Profits for Sales of properties for every number of bedroom options\",\n",
    "    \"View Summary for the Regression analysis of Profit in House Sales\",\n",
    "    \"View Prediction Plot for the Regression analysis of Profit in House Sales\",\n",
    "    \"View Residual Plot for the Regression analysis of Profit in House Sales\"\n",
    "]\n",
    "  \n",
    "def Results(HouseSalesData):\n",
    "    rval=''\n",
    "    if v.get() == 0:\n",
    "        #Displaying first 5 lines of the Data set\n",
    "        rval=HouseSalesData.head() \n",
    "        \n",
    "    elif v.get() == 1:\n",
    "        #Calling function to plot a bar graph for Average Square feet for all the bedroom sizes\n",
    "        func.Bargraph('Average Property Square feet for all the bedroom sizes',HouseSalesData['BedRooms'].unique(),\n",
    "         HouseSalesData['SquareFeet'].groupby(HouseSalesData['BedRooms']).mean(),\n",
    "         'Average Property Square Feet',\n",
    "         'Number of bedrooms','Option0.png','blue')\n",
    "        output=tk.Tk()\n",
    "        output.title('Average Property Square feet for all the bedroom sizes')\n",
    "        bargraph1= tk.PhotoImage(file=f'Option0.png')\n",
    "        tk.Label(output,image=bargraph1).pack(side=\"left\")\n",
    "        output.geometry('600x450+400+250')\n",
    "        output.mainloop()\n",
    "        \n",
    "    elif v.get() == 2:\n",
    "        #Calling function to plot a bar graph for Property Celing Height for all the bedroom sizes\n",
    "        func.Bargraph('Average Property Celing Height for all the bedroom sizes',HouseSalesData['BedRooms'].unique(),\n",
    "         HouseSalesData['CeilingHeight'].groupby(HouseSalesData['BedRooms']).mean(),\n",
    "         'Average Property Celing Height (in feet)',\n",
    "         'Number of bedrooms','Option1.png','orange')\n",
    "        output=tk.Tk()\n",
    "        output.title('Average Property Celing Height for all the bedroom sizes')\n",
    "        bargraph2= tk.PhotoImage(file=f'Option1.png')\n",
    "        tk.Label(output,image=bargraph2).pack(side=\"left\")\n",
    "        output.geometry('600x450+400+250')\n",
    "        output.mainloop()        \n",
    "\n",
    "    elif v.get() == 3:\n",
    "        #Calling function to plot a dynamic pie chart for Number of Farms, Meadows and Attached Garages for all the bedroom sizes\n",
    "        rval= func.Piechart('Number of Farms, Meadows and Attached Garages for all Bed room sizes.',\n",
    "                            ['2 Bed rooms','3 Bed rooms','4 Bed rooms','5 Bed rooms'],\n",
    "                            np.array(HouseSalesData[['Farms']].groupby(HouseSalesData['BedRooms']).sum()),\n",
    "                            'Farms',\n",
    "                            np.array(HouseSalesData[['Meadows']].groupby(HouseSalesData['BedRooms']).sum()),\n",
    "                            'Meadows',\n",
    "                            np.array(HouseSalesData[['AttachedGarage']].groupby(HouseSalesData['BedRooms']).sum()),\n",
    "                            'Attached Garage'\n",
    "                           )\n",
    "        \n",
    "    elif v.get() == 4:\n",
    "        # Calling a funciton to find correlation between Property Square Feet and the profit of a sale\n",
    "        func.ScatterPlot('Property Square Feet and Profit from a Sale have a correlation of ',\n",
    "                 HouseSalesData['SquareFeet'],\n",
    "                 HouseSalesData['Profit'],\n",
    "                 'Option3.png','blue')\n",
    "        output=tk.Tk()\n",
    "        output.title('Correlation between Property Square Feet and the profit of a sale')\n",
    "        scplot= tk.PhotoImage(file=f'Option3.png')\n",
    "        tk.Label(output,image=scplot).pack(side=\"left\")\n",
    "        output.geometry('600x450+400+250')\n",
    "        output.mainloop() \n",
    "        \n",
    "    elif v.get() == 5:\n",
    "        # Calling a function to perform t-Test for Equal Variances\n",
    "        func.tTestEqlVar(HouseSalesData[HouseSalesData['BedRooms']==4].Profit,\n",
    "            HouseSalesData[HouseSalesData['BedRooms']==5].Profit,\n",
    "            \"This is a test of equal variances with Ho: The variances in Profit of properties having bedroom numbers of 4 and 5 are equal\",\n",
    "            \"Conclusion: Reject Ho: The variances in Profit of properties having bedroom sizes of 4 and 5 are not equal\",\n",
    "            \"Conclusion: Fail to Reject Ho: We can't reject that the variances in \"+ \n",
    "              \"Profit of properties having bedroom numbers of 4 and 5are the same\",\n",
    "            \"Profit\",\n",
    "            'Option4.png'\n",
    "            )\n",
    "\n",
    "    elif v.get() == 6: \n",
    "        # Calling a function to perform Anova-Test\n",
    "        func.AnovaTest(HouseSalesData[HouseSalesData['BedRooms']==2].Profit,\n",
    "               HouseSalesData[HouseSalesData['BedRooms']==3].Profit,\n",
    "               HouseSalesData[HouseSalesData['BedRooms']==4].Profit,\n",
    "               HouseSalesData[HouseSalesData['BedRooms']==5].Profit,\n",
    "               \"This is a test of equal means with Ho: The means of all groups are equal/Ha: At least one group mean is different\",\n",
    "               'Profit averages differ among the different bedroom numbers.',\n",
    "               'Profit',\n",
    "               'Option5.png')\n",
    "        \n",
    "    elif v.get() == 7: \n",
    "        #Regression Summary Output\n",
    "        model = ols(\"Profit ~ Farms + Meadows + SquareFeet + BedRooms + AttachedGarage + CeilingHeight\",data=HouseSalesData).fit()\n",
    "        print(model.summary()) # Print the results\n",
    "        \n",
    "    elif v.get() == 8: \n",
    "        model = ols(\"Profit ~ Farms + Meadows + SquareFeet + BedRooms + AttachedGarage + CeilingHeight\",data=HouseSalesData).fit()\n",
    "        ydata=HouseSalesData['Profit']\n",
    "        #Regression - Prediction plot\n",
    "        func.my_multreg(model,ydata,'Profit','Predicted Profit',0,150000,True,False)\n",
    "        \n",
    "    else:\n",
    "        #Regression - Residual plot\n",
    "        model = ols(\"Profit ~ Farms + Meadows + SquareFeet + BedRooms + AttachedGarage + CeilingHeight\",data=HouseSalesData).fit()\n",
    "        ydata=HouseSalesData['Profit']\n",
    "        func.my_multreg(model,ydata,'Profit','Predicted Profit',0,150000,False,True)\n",
    "        \n",
    "    return rval\n",
    "        \n",
    "            \n",
    "tk.Label(root2, \n",
    "         text=\"\"\"Choose your Data exploration options:\"\"\",\n",
    "         justify = tk.LEFT,\n",
    "         padx = 20).pack()\n",
    "\n",
    "for val, choice in enumerate(menuchoices):\n",
    "    tk.Radiobutton(root2, \n",
    "                  text=choice,\n",
    "                  variable=v, \n",
    "                  value=val).pack(anchor=tk.W)\n",
    "\n",
    "button2 = tk.Button(root2, text='OK', width=25, command=root2.destroy) #\n",
    "button2.pack()\n",
    "\n",
    "\n",
    "root2.mainloop()\n",
    "\n",
    "  \n",
    "Results(HouseSalesData)"
   ]
  },
  {
   "cell_type": "markdown",
   "metadata": {},
   "source": [
    "# Presentation of my Project"
   ]
  },
  {
   "cell_type": "markdown",
   "metadata": {},
   "source": [
    "## Code Highlights:\n",
    "\n",
    "### 1. The input data in this project is based on House sales.\n",
    "### 2. The Data set has 7 variables: Farms, Meadows,SquareFeet, BedRooms, AttachedGarage, CeilingHeight &      Profit.\n",
    "### 3. Three Categorical Variables: Farms, Meadows, AttachedGarage\n",
    "### 4. Four numerical Variables: SquareFeet, BedRooms, CeilingHeight & Profit.\n",
    "### 5. I have provided 10 options for the user to explore the data.\n",
    "### 6. I have explored the library: plotly to create a dynamic graph"
   ]
  },
  {
   "cell_type": "markdown",
   "metadata": {},
   "source": [
    "## Project Experiences\n",
    "\n",
    "### 1. The experince for working with the GUI functionality was interesting.\n",
    "### 2. Also it was great fun to make dynamic graphs using plotly."
   ]
  },
  {
   "cell_type": "code",
   "execution_count": null,
   "metadata": {},
   "outputs": [],
   "source": []
  }
 ],
 "metadata": {
  "kernelspec": {
   "display_name": "Python 3",
   "language": "python",
   "name": "python3"
  },
  "language_info": {
   "codemirror_mode": {
    "name": "ipython",
    "version": 3
   },
   "file_extension": ".py",
   "mimetype": "text/x-python",
   "name": "python",
   "nbconvert_exporter": "python",
   "pygments_lexer": "ipython3",
   "version": "3.6.5"
  }
 },
 "nbformat": 4,
 "nbformat_minor": 2
}
