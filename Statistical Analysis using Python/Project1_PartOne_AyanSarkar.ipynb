{
 "cells": [
  {
   "cell_type": "code",
   "execution_count": 1,
   "metadata": {},
   "outputs": [],
   "source": [
    "import pandas as pd\n",
    "import numpy as np\n",
    "from pandas import Series, DataFrame\n",
    "from io import StringIO\n",
    "import os\n",
    "import matplotlib.pyplot as plt"
   ]
  },
  {
   "cell_type": "code",
   "execution_count": 3,
   "metadata": {},
   "outputs": [
    {
     "data": {
      "text/html": [
       "<div>\n",
       "<style scoped>\n",
       "    .dataframe tbody tr th:only-of-type {\n",
       "        vertical-align: middle;\n",
       "    }\n",
       "\n",
       "    .dataframe tbody tr th {\n",
       "        vertical-align: top;\n",
       "    }\n",
       "\n",
       "    .dataframe thead th {\n",
       "        text-align: right;\n",
       "    }\n",
       "</style>\n",
       "<table border=\"1\" class=\"dataframe\">\n",
       "  <thead>\n",
       "    <tr style=\"text-align: right;\">\n",
       "      <th></th>\n",
       "      <th>UserID</th>\n",
       "      <th>Revenue_SMS</th>\n",
       "      <th>Revenue_Data</th>\n",
       "      <th>Revenue_WithinNetwork_Calls</th>\n",
       "      <th>Revenue_OffNetwork_Calls</th>\n",
       "      <th>Data_Volume_Used</th>\n",
       "      <th>Calls_Made</th>\n",
       "    </tr>\n",
       "  </thead>\n",
       "  <tbody>\n",
       "    <tr>\n",
       "      <th>0</th>\n",
       "      <td>1001</td>\n",
       "      <td>23.26</td>\n",
       "      <td>2.5</td>\n",
       "      <td>25523</td>\n",
       "      <td>99000</td>\n",
       "      <td>1.161130e+01</td>\n",
       "      <td>375</td>\n",
       "    </tr>\n",
       "    <tr>\n",
       "      <th>1</th>\n",
       "      <td>1002</td>\n",
       "      <td>174.45</td>\n",
       "      <td>27.5</td>\n",
       "      <td>14584</td>\n",
       "      <td>77299</td>\n",
       "      <td>2.531725e+03</td>\n",
       "      <td>389</td>\n",
       "    </tr>\n",
       "    <tr>\n",
       "      <th>2</th>\n",
       "      <td>1003</td>\n",
       "      <td>14.34</td>\n",
       "      <td>5.0</td>\n",
       "      <td>477</td>\n",
       "      <td>4194</td>\n",
       "      <td>2.913306e+04</td>\n",
       "      <td>15</td>\n",
       "    </tr>\n",
       "    <tr>\n",
       "      <th>3</th>\n",
       "      <td>1004</td>\n",
       "      <td>19.25</td>\n",
       "      <td>52.5</td>\n",
       "      <td>50316</td>\n",
       "      <td>52400</td>\n",
       "      <td>2.674413e+05</td>\n",
       "      <td>636</td>\n",
       "    </tr>\n",
       "    <tr>\n",
       "      <th>4</th>\n",
       "      <td>1005</td>\n",
       "      <td>2.95</td>\n",
       "      <td>42.5</td>\n",
       "      <td>2568</td>\n",
       "      <td>1701</td>\n",
       "      <td>1.461621e+06</td>\n",
       "      <td>17</td>\n",
       "    </tr>\n",
       "  </tbody>\n",
       "</table>\n",
       "</div>"
      ],
      "text/plain": [
       "   UserID  Revenue_SMS  Revenue_Data  Revenue_WithinNetwork_Calls  \\\n",
       "0    1001        23.26           2.5                        25523   \n",
       "1    1002       174.45          27.5                        14584   \n",
       "2    1003        14.34           5.0                          477   \n",
       "3    1004        19.25          52.5                        50316   \n",
       "4    1005         2.95          42.5                         2568   \n",
       "\n",
       "   Revenue_OffNetwork_Calls  Data_Volume_Used  Calls_Made  \n",
       "0                     99000      1.161130e+01         375  \n",
       "1                     77299      2.531725e+03         389  \n",
       "2                      4194      2.913306e+04          15  \n",
       "3                     52400      2.674413e+05         636  \n",
       "4                      1701      1.461621e+06          17  "
      ]
     },
     "execution_count": 3,
     "metadata": {},
     "output_type": "execute_result"
    }
   ],
   "source": [
    "# Chaning the directory to current director\n",
    "os.chdir('C:\\\\Users\\\\ayans\\\\Documents')\n",
    "\n",
    "#Reading the first worksheet of the data excel file\n",
    "dfUserRevenues = pd.read_excel('SATO2015.xlsx',sheet_name='UserRevenues')\n",
    "dfUserRevenues.head() "
   ]
  },
  {
   "cell_type": "code",
   "execution_count": 4,
   "metadata": {},
   "outputs": [
    {
     "data": {
      "text/html": [
       "<div>\n",
       "<style scoped>\n",
       "    .dataframe tbody tr th:only-of-type {\n",
       "        vertical-align: middle;\n",
       "    }\n",
       "\n",
       "    .dataframe tbody tr th {\n",
       "        vertical-align: top;\n",
       "    }\n",
       "\n",
       "    .dataframe thead th {\n",
       "        text-align: right;\n",
       "    }\n",
       "</style>\n",
       "<table border=\"1\" class=\"dataframe\">\n",
       "  <thead>\n",
       "    <tr style=\"text-align: right;\">\n",
       "      <th></th>\n",
       "      <th>UserID</th>\n",
       "      <th>SubscriptionPeriodInDays</th>\n",
       "      <th>ComplaintCount</th>\n",
       "    </tr>\n",
       "  </thead>\n",
       "  <tbody>\n",
       "    <tr>\n",
       "      <th>0</th>\n",
       "      <td>1001</td>\n",
       "      <td>1914</td>\n",
       "      <td>1</td>\n",
       "    </tr>\n",
       "    <tr>\n",
       "      <th>1</th>\n",
       "      <td>1002</td>\n",
       "      <td>2073</td>\n",
       "      <td>1</td>\n",
       "    </tr>\n",
       "    <tr>\n",
       "      <th>2</th>\n",
       "      <td>1003</td>\n",
       "      <td>3139</td>\n",
       "      <td>1</td>\n",
       "    </tr>\n",
       "    <tr>\n",
       "      <th>3</th>\n",
       "      <td>1004</td>\n",
       "      <td>139</td>\n",
       "      <td>2</td>\n",
       "    </tr>\n",
       "    <tr>\n",
       "      <th>4</th>\n",
       "      <td>1005</td>\n",
       "      <td>139</td>\n",
       "      <td>1</td>\n",
       "    </tr>\n",
       "  </tbody>\n",
       "</table>\n",
       "</div>"
      ],
      "text/plain": [
       "   UserID  SubscriptionPeriodInDays  ComplaintCount\n",
       "0    1001                      1914               1\n",
       "1    1002                      2073               1\n",
       "2    1003                      3139               1\n",
       "3    1004                       139               2\n",
       "4    1005                       139               1"
      ]
     },
     "execution_count": 4,
     "metadata": {},
     "output_type": "execute_result"
    }
   ],
   "source": [
    "#Reading the second worksheet of the data excel file\n",
    "dfUserComplaints = pd.read_excel('SATO2015.xlsx',sheet_name='UserComplaints')\n",
    "dfUserComplaints.head() "
   ]
  },
  {
   "cell_type": "code",
   "execution_count": 5,
   "metadata": {},
   "outputs": [
    {
     "data": {
      "text/html": [
       "<div>\n",
       "<style scoped>\n",
       "    .dataframe tbody tr th:only-of-type {\n",
       "        vertical-align: middle;\n",
       "    }\n",
       "\n",
       "    .dataframe tbody tr th {\n",
       "        vertical-align: top;\n",
       "    }\n",
       "\n",
       "    .dataframe thead th {\n",
       "        text-align: right;\n",
       "    }\n",
       "</style>\n",
       "<table border=\"1\" class=\"dataframe\">\n",
       "  <thead>\n",
       "    <tr style=\"text-align: right;\">\n",
       "      <th></th>\n",
       "      <th>UserID</th>\n",
       "      <th>UserType</th>\n",
       "      <th>Status</th>\n",
       "    </tr>\n",
       "  </thead>\n",
       "  <tbody>\n",
       "    <tr>\n",
       "      <th>0</th>\n",
       "      <td>1001</td>\n",
       "      <td>2G</td>\n",
       "      <td>Churned</td>\n",
       "    </tr>\n",
       "    <tr>\n",
       "      <th>1</th>\n",
       "      <td>1002</td>\n",
       "      <td>2G</td>\n",
       "      <td>Churned</td>\n",
       "    </tr>\n",
       "    <tr>\n",
       "      <th>2</th>\n",
       "      <td>1003</td>\n",
       "      <td>Other</td>\n",
       "      <td>Churned</td>\n",
       "    </tr>\n",
       "    <tr>\n",
       "      <th>3</th>\n",
       "      <td>1004</td>\n",
       "      <td>2G</td>\n",
       "      <td>Active</td>\n",
       "    </tr>\n",
       "    <tr>\n",
       "      <th>4</th>\n",
       "      <td>1005</td>\n",
       "      <td>NaN</td>\n",
       "      <td>Active</td>\n",
       "    </tr>\n",
       "  </tbody>\n",
       "</table>\n",
       "</div>"
      ],
      "text/plain": [
       "   UserID UserType   Status\n",
       "0    1001       2G  Churned\n",
       "1    1002       2G  Churned\n",
       "2    1003    Other  Churned\n",
       "3    1004       2G   Active\n",
       "4    1005      NaN   Active"
      ]
     },
     "execution_count": 5,
     "metadata": {},
     "output_type": "execute_result"
    }
   ],
   "source": [
    "#Reading the third worksheet of the data excel file\n",
    "dfUserStatus = pd.read_excel('SATO2015.xlsx',sheet_name='UserStatus')\n",
    "dfUserStatus.head() "
   ]
  },
  {
   "cell_type": "code",
   "execution_count": 11,
   "metadata": {},
   "outputs": [
    {
     "data": {
      "text/html": [
       "<div>\n",
       "<style scoped>\n",
       "    .dataframe tbody tr th:only-of-type {\n",
       "        vertical-align: middle;\n",
       "    }\n",
       "\n",
       "    .dataframe tbody tr th {\n",
       "        vertical-align: top;\n",
       "    }\n",
       "\n",
       "    .dataframe thead th {\n",
       "        text-align: right;\n",
       "    }\n",
       "</style>\n",
       "<table border=\"1\" class=\"dataframe\">\n",
       "  <thead>\n",
       "    <tr style=\"text-align: right;\">\n",
       "      <th></th>\n",
       "      <th>UserID</th>\n",
       "      <th>Revenue_SMS</th>\n",
       "      <th>Revenue_Data</th>\n",
       "      <th>Revenue_WithinNetwork_Calls</th>\n",
       "      <th>Revenue_OffNetwork_Calls</th>\n",
       "      <th>Data_Volume_Used</th>\n",
       "      <th>Calls_Made</th>\n",
       "      <th>SubscriptionPeriodInDays</th>\n",
       "      <th>ComplaintCount</th>\n",
       "      <th>UserType</th>\n",
       "      <th>Status</th>\n",
       "    </tr>\n",
       "  </thead>\n",
       "  <tbody>\n",
       "    <tr>\n",
       "      <th>0</th>\n",
       "      <td>1001</td>\n",
       "      <td>23.26</td>\n",
       "      <td>2.5</td>\n",
       "      <td>25523</td>\n",
       "      <td>99000</td>\n",
       "      <td>1.161130e+01</td>\n",
       "      <td>375</td>\n",
       "      <td>1914</td>\n",
       "      <td>1</td>\n",
       "      <td>2G</td>\n",
       "      <td>Churned</td>\n",
       "    </tr>\n",
       "    <tr>\n",
       "      <th>1</th>\n",
       "      <td>1002</td>\n",
       "      <td>174.45</td>\n",
       "      <td>27.5</td>\n",
       "      <td>14584</td>\n",
       "      <td>77299</td>\n",
       "      <td>2.531725e+03</td>\n",
       "      <td>389</td>\n",
       "      <td>2073</td>\n",
       "      <td>1</td>\n",
       "      <td>2G</td>\n",
       "      <td>Churned</td>\n",
       "    </tr>\n",
       "    <tr>\n",
       "      <th>2</th>\n",
       "      <td>1003</td>\n",
       "      <td>14.34</td>\n",
       "      <td>5.0</td>\n",
       "      <td>477</td>\n",
       "      <td>4194</td>\n",
       "      <td>2.913306e+04</td>\n",
       "      <td>15</td>\n",
       "      <td>3139</td>\n",
       "      <td>1</td>\n",
       "      <td>Other</td>\n",
       "      <td>Churned</td>\n",
       "    </tr>\n",
       "    <tr>\n",
       "      <th>3</th>\n",
       "      <td>1004</td>\n",
       "      <td>19.25</td>\n",
       "      <td>52.5</td>\n",
       "      <td>50316</td>\n",
       "      <td>52400</td>\n",
       "      <td>2.674413e+05</td>\n",
       "      <td>636</td>\n",
       "      <td>139</td>\n",
       "      <td>2</td>\n",
       "      <td>2G</td>\n",
       "      <td>Active</td>\n",
       "    </tr>\n",
       "    <tr>\n",
       "      <th>4</th>\n",
       "      <td>1005</td>\n",
       "      <td>2.95</td>\n",
       "      <td>42.5</td>\n",
       "      <td>2568</td>\n",
       "      <td>1701</td>\n",
       "      <td>1.461621e+06</td>\n",
       "      <td>17</td>\n",
       "      <td>139</td>\n",
       "      <td>1</td>\n",
       "      <td>NaN</td>\n",
       "      <td>Active</td>\n",
       "    </tr>\n",
       "  </tbody>\n",
       "</table>\n",
       "</div>"
      ],
      "text/plain": [
       "   UserID  Revenue_SMS  Revenue_Data  Revenue_WithinNetwork_Calls  \\\n",
       "0    1001        23.26           2.5                        25523   \n",
       "1    1002       174.45          27.5                        14584   \n",
       "2    1003        14.34           5.0                          477   \n",
       "3    1004        19.25          52.5                        50316   \n",
       "4    1005         2.95          42.5                         2568   \n",
       "\n",
       "   Revenue_OffNetwork_Calls  Data_Volume_Used  Calls_Made  \\\n",
       "0                     99000      1.161130e+01         375   \n",
       "1                     77299      2.531725e+03         389   \n",
       "2                      4194      2.913306e+04          15   \n",
       "3                     52400      2.674413e+05         636   \n",
       "4                      1701      1.461621e+06          17   \n",
       "\n",
       "   SubscriptionPeriodInDays  ComplaintCount UserType   Status  \n",
       "0                      1914               1       2G  Churned  \n",
       "1                      2073               1       2G  Churned  \n",
       "2                      3139               1    Other  Churned  \n",
       "3                       139               2       2G   Active  \n",
       "4                       139               1      NaN   Active  "
      ]
     },
     "execution_count": 11,
     "metadata": {},
     "output_type": "execute_result"
    }
   ],
   "source": [
    "#Merging all the three data frames to one final data frame\n",
    "dfSATO = pd.merge(dfUserRevenues,dfUserComplaints, on='UserID',how='inner')\n",
    "dfSATO = pd.merge(dfSATO,dfUserStatus, on='UserID',how='inner')\n",
    "dfSATO.head()"
   ]
  },
  {
   "cell_type": "code",
   "execution_count": 42,
   "metadata": {},
   "outputs": [
    {
     "data": {
      "text/plain": [
       "Series([], Name: Revenue_SMS, dtype: float64)"
      ]
     },
     "execution_count": 42,
     "metadata": {},
     "output_type": "execute_result"
    }
   ],
   "source": [
    "#Data Processing\n",
    "\n",
    "#Looking for missing values\n",
    "\n",
    "#Field: Revenue_SMS\n",
    "dfSATO[dfSATO['Revenue_SMS'].isnull()].Revenue_SMS   #No missing values found for this field\n"
   ]
  },
  {
   "cell_type": "code",
   "execution_count": 41,
   "metadata": {},
   "outputs": [
    {
     "data": {
      "text/plain": [
       "Series([], Name: Revenue_Data, dtype: float64)"
      ]
     },
     "execution_count": 41,
     "metadata": {},
     "output_type": "execute_result"
    }
   ],
   "source": [
    "#Field: Revenue_Data\n",
    "dfSATO[dfSATO['Revenue_Data'].isnull()].Revenue_Data   #No missing values found for this field"
   ]
  },
  {
   "cell_type": "code",
   "execution_count": 40,
   "metadata": {},
   "outputs": [
    {
     "data": {
      "text/plain": [
       "Series([], Name: Revenue_WithinNetwork_Calls, dtype: int64)"
      ]
     },
     "execution_count": 40,
     "metadata": {},
     "output_type": "execute_result"
    }
   ],
   "source": [
    "#Field: Revenue_WithinNetwork_Calls\n",
    "dfSATO[dfSATO['Revenue_WithinNetwork_Calls'].isnull()].Revenue_WithinNetwork_Calls   #No missing values found for this field"
   ]
  },
  {
   "cell_type": "code",
   "execution_count": 39,
   "metadata": {},
   "outputs": [
    {
     "data": {
      "text/plain": [
       "Series([], Name: Revenue_OffNetwork_Calls, dtype: int64)"
      ]
     },
     "execution_count": 39,
     "metadata": {},
     "output_type": "execute_result"
    }
   ],
   "source": [
    "#Field: Revenue_OffNetwork_Calls\n",
    "dfSATO[dfSATO['Revenue_OffNetwork_Calls'].isnull()].Revenue_OffNetwork_Calls   #No missing values found for this field"
   ]
  },
  {
   "cell_type": "code",
   "execution_count": 38,
   "metadata": {},
   "outputs": [
    {
     "data": {
      "text/plain": [
       "Series([], Name: Data_Volume_Used, dtype: float64)"
      ]
     },
     "execution_count": 38,
     "metadata": {},
     "output_type": "execute_result"
    }
   ],
   "source": [
    "#Field: Data_Volume_Used\n",
    "dfSATO[dfSATO['Data_Volume_Used'].isnull()].Data_Volume_Used   #No missing values found for this field"
   ]
  },
  {
   "cell_type": "code",
   "execution_count": 37,
   "metadata": {},
   "outputs": [
    {
     "data": {
      "text/plain": [
       "Series([], Name: Calls_Made, dtype: int64)"
      ]
     },
     "execution_count": 37,
     "metadata": {},
     "output_type": "execute_result"
    }
   ],
   "source": [
    "#Field: Calls_Made\n",
    "dfSATO[dfSATO['Calls_Made'].isnull()].Calls_Made   #No missing values found for this field"
   ]
  },
  {
   "cell_type": "code",
   "execution_count": 36,
   "metadata": {},
   "outputs": [
    {
     "data": {
      "text/plain": [
       "Series([], Name: SubscriptionPeriodInDays, dtype: int64)"
      ]
     },
     "execution_count": 36,
     "metadata": {},
     "output_type": "execute_result"
    }
   ],
   "source": [
    "#Field: SubscriptionPeriodInDays\n",
    "dfSATO[dfSATO['SubscriptionPeriodInDays'].isnull()].SubscriptionPeriodInDays   #No missing values found for this field"
   ]
  },
  {
   "cell_type": "code",
   "execution_count": 35,
   "metadata": {},
   "outputs": [
    {
     "data": {
      "text/plain": [
       "Series([], Name: ComplaintCount, dtype: int64)"
      ]
     },
     "execution_count": 35,
     "metadata": {},
     "output_type": "execute_result"
    }
   ],
   "source": [
    "#Field: ComplaintCount\n",
    "dfSATO[dfSATO['ComplaintCount'].isnull()].ComplaintCount   #No missing values found for this field"
   ]
  },
  {
   "cell_type": "code",
   "execution_count": 34,
   "metadata": {},
   "outputs": [
    {
     "data": {
      "text/plain": [
       "4       NaN\n",
       "9       NaN\n",
       "21      NaN\n",
       "37      NaN\n",
       "38      NaN\n",
       "40      NaN\n",
       "51      NaN\n",
       "54      NaN\n",
       "64      NaN\n",
       "71      NaN\n",
       "75      NaN\n",
       "77      NaN\n",
       "86      NaN\n",
       "90      NaN\n",
       "93      NaN\n",
       "94      NaN\n",
       "109     NaN\n",
       "120     NaN\n",
       "132     NaN\n",
       "142     NaN\n",
       "192     NaN\n",
       "207     NaN\n",
       "237     NaN\n",
       "240     NaN\n",
       "269     NaN\n",
       "271     NaN\n",
       "280     NaN\n",
       "284     NaN\n",
       "297     NaN\n",
       "300     NaN\n",
       "       ... \n",
       "1690    NaN\n",
       "1692    NaN\n",
       "1694    NaN\n",
       "1712    NaN\n",
       "1724    NaN\n",
       "1730    NaN\n",
       "1738    NaN\n",
       "1745    NaN\n",
       "1772    NaN\n",
       "1782    NaN\n",
       "1784    NaN\n",
       "1814    NaN\n",
       "1821    NaN\n",
       "1827    NaN\n",
       "1871    NaN\n",
       "1893    NaN\n",
       "1901    NaN\n",
       "1908    NaN\n",
       "1917    NaN\n",
       "1928    NaN\n",
       "1931    NaN\n",
       "1934    NaN\n",
       "1943    NaN\n",
       "1954    NaN\n",
       "1962    NaN\n",
       "1967    NaN\n",
       "1968    NaN\n",
       "1970    NaN\n",
       "1980    NaN\n",
       "1987    NaN\n",
       "Name: UserType, Length: 245, dtype: object"
      ]
     },
     "execution_count": 34,
     "metadata": {},
     "output_type": "execute_result"
    }
   ],
   "source": [
    "#Field: UserType\n",
    "dfSATO[dfSATO['UserType'].isnull()].UserType   #245 missing values found for this field"
   ]
  },
  {
   "cell_type": "code",
   "execution_count": 45,
   "metadata": {},
   "outputs": [],
   "source": [
    "# Replacing the missing values for the field: UserType with value:\"Other\"\n",
    "dfSATO['UserType']=dfSATO['UserType'].fillna('Other')"
   ]
  },
  {
   "cell_type": "code",
   "execution_count": 46,
   "metadata": {},
   "outputs": [
    {
     "data": {
      "text/plain": [
       "Series([], Name: UserType, dtype: object)"
      ]
     },
     "execution_count": 46,
     "metadata": {},
     "output_type": "execute_result"
    }
   ],
   "source": [
    "#Re-verification of missing values for the field after treatment of missing values\n",
    "dfSATO[dfSATO['UserType'].isnull()].UserType "
   ]
  },
  {
   "cell_type": "code",
   "execution_count": 47,
   "metadata": {},
   "outputs": [
    {
     "data": {
      "text/plain": [
       "Series([], Name: UserType, dtype: object)"
      ]
     },
     "execution_count": 47,
     "metadata": {},
     "output_type": "execute_result"
    }
   ],
   "source": [
    "#Field: Status\n",
    "dfSATO[dfSATO['Status'].isnull()].UserType   #No missing values found for this field"
   ]
  },
  {
   "cell_type": "code",
   "execution_count": 52,
   "metadata": {},
   "outputs": [
    {
     "data": {
      "text/html": [
       "<div>\n",
       "<style scoped>\n",
       "    .dataframe tbody tr th:only-of-type {\n",
       "        vertical-align: middle;\n",
       "    }\n",
       "\n",
       "    .dataframe tbody tr th {\n",
       "        vertical-align: top;\n",
       "    }\n",
       "\n",
       "    .dataframe thead th {\n",
       "        text-align: right;\n",
       "    }\n",
       "</style>\n",
       "<table border=\"1\" class=\"dataframe\">\n",
       "  <thead>\n",
       "    <tr style=\"text-align: right;\">\n",
       "      <th></th>\n",
       "      <th>UserID</th>\n",
       "      <th>Revenue_SMS</th>\n",
       "      <th>Revenue_Data</th>\n",
       "      <th>Revenue_WithinNetwork_Calls</th>\n",
       "      <th>Revenue_OffNetwork_Calls</th>\n",
       "      <th>Data_Volume_Used</th>\n",
       "      <th>Calls_Made</th>\n",
       "      <th>SubscriptionPeriodInDays</th>\n",
       "      <th>ComplaintCount</th>\n",
       "      <th>UserType</th>\n",
       "      <th>Status</th>\n",
       "      <th>Network_Spectrum</th>\n",
       "    </tr>\n",
       "  </thead>\n",
       "  <tbody>\n",
       "    <tr>\n",
       "      <th>0</th>\n",
       "      <td>1001</td>\n",
       "      <td>23.26</td>\n",
       "      <td>2.5</td>\n",
       "      <td>25523</td>\n",
       "      <td>99000</td>\n",
       "      <td>1.161130e+01</td>\n",
       "      <td>375</td>\n",
       "      <td>1914</td>\n",
       "      <td>1</td>\n",
       "      <td>2G</td>\n",
       "      <td>Churned</td>\n",
       "      <td>2G Spectrum</td>\n",
       "    </tr>\n",
       "    <tr>\n",
       "      <th>1</th>\n",
       "      <td>1002</td>\n",
       "      <td>174.45</td>\n",
       "      <td>27.5</td>\n",
       "      <td>14584</td>\n",
       "      <td>77299</td>\n",
       "      <td>2.531725e+03</td>\n",
       "      <td>389</td>\n",
       "      <td>2073</td>\n",
       "      <td>1</td>\n",
       "      <td>2G</td>\n",
       "      <td>Churned</td>\n",
       "      <td>2G Spectrum</td>\n",
       "    </tr>\n",
       "    <tr>\n",
       "      <th>2</th>\n",
       "      <td>1003</td>\n",
       "      <td>14.34</td>\n",
       "      <td>5.0</td>\n",
       "      <td>477</td>\n",
       "      <td>4194</td>\n",
       "      <td>2.913306e+04</td>\n",
       "      <td>15</td>\n",
       "      <td>3139</td>\n",
       "      <td>1</td>\n",
       "      <td>Other</td>\n",
       "      <td>Churned</td>\n",
       "      <td>Unknown</td>\n",
       "    </tr>\n",
       "    <tr>\n",
       "      <th>3</th>\n",
       "      <td>1004</td>\n",
       "      <td>19.25</td>\n",
       "      <td>52.5</td>\n",
       "      <td>50316</td>\n",
       "      <td>52400</td>\n",
       "      <td>2.674413e+05</td>\n",
       "      <td>636</td>\n",
       "      <td>139</td>\n",
       "      <td>2</td>\n",
       "      <td>2G</td>\n",
       "      <td>Active</td>\n",
       "      <td>2G Spectrum</td>\n",
       "    </tr>\n",
       "    <tr>\n",
       "      <th>4</th>\n",
       "      <td>1005</td>\n",
       "      <td>2.95</td>\n",
       "      <td>42.5</td>\n",
       "      <td>2568</td>\n",
       "      <td>1701</td>\n",
       "      <td>1.461621e+06</td>\n",
       "      <td>17</td>\n",
       "      <td>139</td>\n",
       "      <td>1</td>\n",
       "      <td>Other</td>\n",
       "      <td>Active</td>\n",
       "      <td>Unknown</td>\n",
       "    </tr>\n",
       "  </tbody>\n",
       "</table>\n",
       "</div>"
      ],
      "text/plain": [
       "   UserID  Revenue_SMS  Revenue_Data  Revenue_WithinNetwork_Calls  \\\n",
       "0    1001        23.26           2.5                        25523   \n",
       "1    1002       174.45          27.5                        14584   \n",
       "2    1003        14.34           5.0                          477   \n",
       "3    1004        19.25          52.5                        50316   \n",
       "4    1005         2.95          42.5                         2568   \n",
       "\n",
       "   Revenue_OffNetwork_Calls  Data_Volume_Used  Calls_Made  \\\n",
       "0                     99000      1.161130e+01         375   \n",
       "1                     77299      2.531725e+03         389   \n",
       "2                      4194      2.913306e+04          15   \n",
       "3                     52400      2.674413e+05         636   \n",
       "4                      1701      1.461621e+06          17   \n",
       "\n",
       "   SubscriptionPeriodInDays  ComplaintCount UserType   Status Network_Spectrum  \n",
       "0                      1914               1       2G  Churned      2G Spectrum  \n",
       "1                      2073               1       2G  Churned      2G Spectrum  \n",
       "2                      3139               1    Other  Churned          Unknown  \n",
       "3                       139               2       2G   Active      2G Spectrum  \n",
       "4                       139               1    Other   Active          Unknown  "
      ]
     },
     "execution_count": 52,
     "metadata": {},
     "output_type": "execute_result"
    }
   ],
   "source": [
    "# Adding a new detail to the dataframe by recoding another field\n",
    "dfSATO['Network_Spectrum']=np.where(dfSATO['UserType']=='2G','2G Spectrum',\n",
    "                                    np.where(dfSATO['UserType']=='3G','3G Spectrum','Unknown'))\n",
    "dfSATO.head()"
   ]
  },
  {
   "cell_type": "code",
   "execution_count": 67,
   "metadata": {},
   "outputs": [
    {
     "data": {
      "text/plain": [
       "(2151812.82, 155031212.8]         400\n",
       "(465830.54, 2151812.82]           400\n",
       "(59281.5, 465830.54]              400\n",
       "(888.33, 59281.5]                 400\n",
       "(0.048999999999999995, 888.33]    400\n",
       "Name: Data_Volume_Used, dtype: int64"
      ]
     },
     "execution_count": 67,
     "metadata": {},
     "output_type": "execute_result"
    }
   ],
   "source": [
    "# Binning the Field: Data_Volume_Used\n",
    "Data_VolumeUsed_Binned = pd.qcut(dfSATO['Data_Volume_Used'],5,precision=2)\n",
    "pd.value_counts(Data_VolumeUsed_Binned)"
   ]
  },
  {
   "cell_type": "code",
   "execution_count": 57,
   "metadata": {},
   "outputs": [
    {
     "data": {
      "text/plain": [
       "Index(['UserID', 'Revenue_SMS', 'Revenue_Data', 'Revenue_WithinNetwork_Calls',\n",
       "       'Revenue_OffNetwork_Calls', 'Data_Volume_Used', 'Calls_Made',\n",
       "       'SubscriptionPeriodInDays', 'ComplaintCount', 'UserType', 'Status',\n",
       "       'Network_Spectrum'],\n",
       "      dtype='object')"
      ]
     },
     "execution_count": 57,
     "metadata": {},
     "output_type": "execute_result"
    }
   ],
   "source": [
    "#Data Exploration\n",
    "\n",
    "#Creating basic summaries for the quantitative fields\n",
    "dfSATO.columns\n",
    "\n",
    "\n"
   ]
  },
  {
   "cell_type": "code",
   "execution_count": 91,
   "metadata": {},
   "outputs": [
    {
     "data": {
      "text/html": [
       "<div>\n",
       "<style scoped>\n",
       "    .dataframe tbody tr th:only-of-type {\n",
       "        vertical-align: middle;\n",
       "    }\n",
       "\n",
       "    .dataframe tbody tr th {\n",
       "        vertical-align: top;\n",
       "    }\n",
       "\n",
       "    .dataframe thead th {\n",
       "        text-align: right;\n",
       "    }\n",
       "</style>\n",
       "<table border=\"1\" class=\"dataframe\">\n",
       "  <thead>\n",
       "    <tr style=\"text-align: right;\">\n",
       "      <th></th>\n",
       "      <th>Revenue_SMS</th>\n",
       "      <th>Revenue_Data</th>\n",
       "      <th>Revenue_WithinNetwork_Calls</th>\n",
       "      <th>Revenue_OffNetwork_Calls</th>\n",
       "      <th>Data_Volume_Used</th>\n",
       "      <th>Calls_Made</th>\n",
       "      <th>SubscriptionPeriodInDays</th>\n",
       "      <th>ComplaintCount</th>\n",
       "    </tr>\n",
       "  </thead>\n",
       "  <tbody>\n",
       "    <tr>\n",
       "      <th>count</th>\n",
       "      <td>2000.000000</td>\n",
       "      <td>2000.000000</td>\n",
       "      <td>2000.000000</td>\n",
       "      <td>2000.000000</td>\n",
       "      <td>2.000000e+03</td>\n",
       "      <td>2000.000000</td>\n",
       "      <td>2000.000000</td>\n",
       "      <td>2000.000000</td>\n",
       "    </tr>\n",
       "    <tr>\n",
       "      <th>mean</th>\n",
       "      <td>31.108605</td>\n",
       "      <td>58.806080</td>\n",
       "      <td>7411.284500</td>\n",
       "      <td>16457.577500</td>\n",
       "      <td>2.773961e+06</td>\n",
       "      <td>240.910500</td>\n",
       "      <td>1469.554500</td>\n",
       "      <td>1.924500</td>\n",
       "    </tr>\n",
       "    <tr>\n",
       "      <th>std</th>\n",
       "      <td>57.908418</td>\n",
       "      <td>247.459279</td>\n",
       "      <td>16494.392836</td>\n",
       "      <td>34311.972061</td>\n",
       "      <td>8.845272e+06</td>\n",
       "      <td>369.922258</td>\n",
       "      <td>1286.753291</td>\n",
       "      <td>2.265693</td>\n",
       "    </tr>\n",
       "    <tr>\n",
       "      <th>min</th>\n",
       "      <td>0.000000</td>\n",
       "      <td>0.000000</td>\n",
       "      <td>0.000000</td>\n",
       "      <td>0.000000</td>\n",
       "      <td>5.860000e-02</td>\n",
       "      <td>1.000000</td>\n",
       "      <td>-8.000000</td>\n",
       "      <td>1.000000</td>\n",
       "    </tr>\n",
       "    <tr>\n",
       "      <th>25%</th>\n",
       "      <td>3.500000</td>\n",
       "      <td>1.250000</td>\n",
       "      <td>114.000000</td>\n",
       "      <td>1432.000000</td>\n",
       "      <td>2.675567e+03</td>\n",
       "      <td>25.000000</td>\n",
       "      <td>323.500000</td>\n",
       "      <td>1.000000</td>\n",
       "    </tr>\n",
       "    <tr>\n",
       "      <th>50%</th>\n",
       "      <td>14.810000</td>\n",
       "      <td>13.750000</td>\n",
       "      <td>1940.500000</td>\n",
       "      <td>5039.000000</td>\n",
       "      <td>1.822864e+05</td>\n",
       "      <td>99.000000</td>\n",
       "      <td>1194.500000</td>\n",
       "      <td>1.000000</td>\n",
       "    </tr>\n",
       "    <tr>\n",
       "      <th>75%</th>\n",
       "      <td>34.140000</td>\n",
       "      <td>53.750000</td>\n",
       "      <td>7941.000000</td>\n",
       "      <td>15790.000000</td>\n",
       "      <td>1.544505e+06</td>\n",
       "      <td>331.250000</td>\n",
       "      <td>2247.250000</td>\n",
       "      <td>2.000000</td>\n",
       "    </tr>\n",
       "    <tr>\n",
       "      <th>max</th>\n",
       "      <td>873.980000</td>\n",
       "      <td>8295.000000</td>\n",
       "      <td>381174.000000</td>\n",
       "      <td>431440.000000</td>\n",
       "      <td>1.550312e+08</td>\n",
       "      <td>5727.000000</td>\n",
       "      <td>5451.000000</td>\n",
       "      <td>49.000000</td>\n",
       "    </tr>\n",
       "  </tbody>\n",
       "</table>\n",
       "</div>"
      ],
      "text/plain": [
       "       Revenue_SMS  Revenue_Data  Revenue_WithinNetwork_Calls  \\\n",
       "count  2000.000000   2000.000000                  2000.000000   \n",
       "mean     31.108605     58.806080                  7411.284500   \n",
       "std      57.908418    247.459279                 16494.392836   \n",
       "min       0.000000      0.000000                     0.000000   \n",
       "25%       3.500000      1.250000                   114.000000   \n",
       "50%      14.810000     13.750000                  1940.500000   \n",
       "75%      34.140000     53.750000                  7941.000000   \n",
       "max     873.980000   8295.000000                381174.000000   \n",
       "\n",
       "       Revenue_OffNetwork_Calls  Data_Volume_Used   Calls_Made  \\\n",
       "count               2000.000000      2.000000e+03  2000.000000   \n",
       "mean               16457.577500      2.773961e+06   240.910500   \n",
       "std                34311.972061      8.845272e+06   369.922258   \n",
       "min                    0.000000      5.860000e-02     1.000000   \n",
       "25%                 1432.000000      2.675567e+03    25.000000   \n",
       "50%                 5039.000000      1.822864e+05    99.000000   \n",
       "75%                15790.000000      1.544505e+06   331.250000   \n",
       "max               431440.000000      1.550312e+08  5727.000000   \n",
       "\n",
       "       SubscriptionPeriodInDays  ComplaintCount  \n",
       "count               2000.000000     2000.000000  \n",
       "mean                1469.554500        1.924500  \n",
       "std                 1286.753291        2.265693  \n",
       "min                   -8.000000        1.000000  \n",
       "25%                  323.500000        1.000000  \n",
       "50%                 1194.500000        1.000000  \n",
       "75%                 2247.250000        2.000000  \n",
       "max                 5451.000000       49.000000  "
      ]
     },
     "execution_count": 91,
     "metadata": {},
     "output_type": "execute_result"
    }
   ],
   "source": [
    "#Creating basic summaries for the Quantitative variables\n",
    "\n",
    "dfSATO[['Revenue_SMS','Revenue_Data','Revenue_WithinNetwork_Calls','Revenue_OffNetwork_Calls','Data_Volume_Used','Calls_Made','SubscriptionPeriodInDays','ComplaintCount']].describe()"
   ]
  },
  {
   "cell_type": "code",
   "execution_count": 60,
   "metadata": {},
   "outputs": [
    {
     "data": {
      "text/html": [
       "<div>\n",
       "<style scoped>\n",
       "    .dataframe tbody tr th:only-of-type {\n",
       "        vertical-align: middle;\n",
       "    }\n",
       "\n",
       "    .dataframe tbody tr th {\n",
       "        vertical-align: top;\n",
       "    }\n",
       "\n",
       "    .dataframe thead th {\n",
       "        text-align: right;\n",
       "    }\n",
       "</style>\n",
       "<table border=\"1\" class=\"dataframe\">\n",
       "  <thead>\n",
       "    <tr style=\"text-align: right;\">\n",
       "      <th></th>\n",
       "      <th>UserType</th>\n",
       "      <th>Status</th>\n",
       "      <th>Network_Spectrum</th>\n",
       "    </tr>\n",
       "  </thead>\n",
       "  <tbody>\n",
       "    <tr>\n",
       "      <th>count</th>\n",
       "      <td>2000</td>\n",
       "      <td>2000</td>\n",
       "      <td>2000</td>\n",
       "    </tr>\n",
       "    <tr>\n",
       "      <th>unique</th>\n",
       "      <td>3</td>\n",
       "      <td>2</td>\n",
       "      <td>3</td>\n",
       "    </tr>\n",
       "    <tr>\n",
       "      <th>top</th>\n",
       "      <td>3G</td>\n",
       "      <td>Active</td>\n",
       "      <td>3G Spectrum</td>\n",
       "    </tr>\n",
       "    <tr>\n",
       "      <th>freq</th>\n",
       "      <td>974</td>\n",
       "      <td>1000</td>\n",
       "      <td>974</td>\n",
       "    </tr>\n",
       "  </tbody>\n",
       "</table>\n",
       "</div>"
      ],
      "text/plain": [
       "       UserType  Status Network_Spectrum\n",
       "count      2000    2000             2000\n",
       "unique        3       2                3\n",
       "top          3G  Active      3G Spectrum\n",
       "freq        974    1000              974"
      ]
     },
     "execution_count": 60,
     "metadata": {},
     "output_type": "execute_result"
    }
   ],
   "source": [
    "#Creating basic summaries for the Categorical variables\n",
    "\n",
    "dfSATO[['UserType','Status','Network_Spectrum']].describe()"
   ]
  },
  {
   "cell_type": "code",
   "execution_count": 70,
   "metadata": {},
   "outputs": [
    {
     "data": {
      "text/plain": [
       "3G       974\n",
       "Other    619\n",
       "2G       407\n",
       "Name: UserType, dtype: int64"
      ]
     },
     "execution_count": 70,
     "metadata": {},
     "output_type": "execute_result"
    }
   ],
   "source": [
    "#Value Counts for UserType\n",
    "dfSATO.UserType.value_counts()\n"
   ]
  },
  {
   "cell_type": "code",
   "execution_count": 75,
   "metadata": {},
   "outputs": [
    {
     "data": {
      "image/png": "[encoded data removed]",
      "text/plain": [
       "<Figure size 432x288 with 1 Axes>"
      ]
     },
     "metadata": {},
     "output_type": "display_data"
    }
   ],
   "source": [
    "#Bar Plot\n",
    "UserTypeCnts = dfSATO.UserType.value_counts()\n",
    "y=UserTypeCnts.values\n",
    "n=len(y)\n",
    "x=np.arange(n) \n",
    "plt.bar(x,y,width=.75, color = 'blue')\n",
    "plt.ylabel('Counts')\n",
    "plt.xticks(x,UserTypeCnts.index)\n",
    "plt.xticks(x,UserTypeCnts.index,color='black',rotation='vertical')\n",
    "plt.title('User Type Disribution in data')\n",
    "plt.show()"
   ]
  },
  {
   "cell_type": "code",
   "execution_count": 62,
   "metadata": {},
   "outputs": [
    {
     "data": {
      "text/plain": [
       "array(['2G', 'Other', '3G'], dtype=object)"
      ]
     },
     "execution_count": 62,
     "metadata": {},
     "output_type": "execute_result"
    }
   ],
   "source": [
    "#Unique values for UserType\n",
    "dfSATO.UserType.unique()"
   ]
  },
  {
   "cell_type": "code",
   "execution_count": 63,
   "metadata": {},
   "outputs": [
    {
     "data": {
      "text/plain": [
       "Active     1000\n",
       "Churned    1000\n",
       "Name: Status, dtype: int64"
      ]
     },
     "execution_count": 63,
     "metadata": {},
     "output_type": "execute_result"
    }
   ],
   "source": [
    "#Value Counts for Status\n",
    "dfSATO.Status.value_counts()"
   ]
  },
  {
   "cell_type": "code",
   "execution_count": 76,
   "metadata": {},
   "outputs": [
    {
     "data": {
      "image/png": "[encoded data removed]",
      "text/plain": [
       "<Figure size 432x288 with 1 Axes>"
      ]
     },
     "metadata": {},
     "output_type": "display_data"
    }
   ],
   "source": [
    "#Bar Plot\n",
    "StatusCnts = dfSATO.Status.value_counts()\n",
    "y=StatusCnts.values\n",
    "n=len(y)\n",
    "x=np.arange(n) \n",
    "plt.bar(x,y,width=.75, color = 'blue')\n",
    "plt.ylabel('Counts')\n",
    "plt.xticks(x,StatusCnts.index)\n",
    "plt.xticks(x,StatusCnts.index,color='black',rotation='vertical')\n",
    "plt.title('User Status Disribution in data')\n",
    "plt.show()"
   ]
  },
  {
   "cell_type": "code",
   "execution_count": 64,
   "metadata": {},
   "outputs": [
    {
     "data": {
      "text/plain": [
       "array(['Churned', 'Active'], dtype=object)"
      ]
     },
     "execution_count": 64,
     "metadata": {},
     "output_type": "execute_result"
    }
   ],
   "source": [
    "#Unique values for Status\n",
    "dfSATO.Status.unique()"
   ]
  },
  {
   "cell_type": "code",
   "execution_count": 65,
   "metadata": {},
   "outputs": [
    {
     "data": {
      "text/plain": [
       "3G Spectrum    974\n",
       "Unknown        619\n",
       "2G Spectrum    407\n",
       "Name: Network_Spectrum, dtype: int64"
      ]
     },
     "execution_count": 65,
     "metadata": {},
     "output_type": "execute_result"
    }
   ],
   "source": [
    "#Value Counts for Network Spectrum\n",
    "dfSATO.Network_Spectrum.value_counts()"
   ]
  },
  {
   "cell_type": "code",
   "execution_count": 66,
   "metadata": {},
   "outputs": [
    {
     "data": {
      "text/plain": [
       "array(['2G Spectrum', 'Unknown', '3G Spectrum'], dtype=object)"
      ]
     },
     "execution_count": 66,
     "metadata": {},
     "output_type": "execute_result"
    }
   ],
   "source": [
    "#Unique values for Network Spectrum\n",
    "dfSATO.Network_Spectrum.unique()"
   ]
  },
  {
   "cell_type": "code",
   "execution_count": null,
   "metadata": {},
   "outputs": [],
   "source": [
    "#Number of complaints in case of Churned Customers Vs. Active Customers"
   ]
  },
  {
   "cell_type": "code",
   "execution_count": 77,
   "metadata": {},
   "outputs": [
    {
     "data": {
      "text/plain": [
       "Status\n",
       "Active     342944\n",
       "Churned    138877\n",
       "Name: Calls_Made, dtype: int64"
      ]
     },
     "execution_count": 77,
     "metadata": {},
     "output_type": "execute_result"
    }
   ],
   "source": [
    "dfSATO.Calls_Made.groupby(dfSATO.Status).sum()"
   ]
  },
  {
   "cell_type": "code",
   "execution_count": null,
   "metadata": {},
   "outputs": [],
   "source": [
    "# Relationship between a User's status & the corresponding Revenue received from Calls made \n",
    "# within and outside of their network."
   ]
  },
  {
   "cell_type": "code",
   "execution_count": 90,
   "metadata": {},
   "outputs": [
    {
     "data": {
      "image/png": "[encoded data removed]",
      "text/plain": [
       "<Figure size 432x288 with 1 Axes>"
      ]
     },
     "metadata": {},
     "output_type": "display_data"
    }
   ],
   "source": [
    "#Scatterplot with 2 series\n",
    "x1 = dfSATO.Revenue_WithinNetwork_Calls[dfSATO.Status=='Active']\n",
    "y1 = dfSATO.Revenue_OffNetwork_Calls[dfSATO.Status=='Active']\n",
    "OneCorr = round(np.corrcoef(x1,y1)[0,1],3)\n",
    "x2 = dfSATO.Revenue_WithinNetwork_Calls[dfSATO.Status=='Churned']\n",
    "y2 = dfSATO.Revenue_OffNetwork_Calls[dfSATO.Status=='Churned']\n",
    "TwoCorr = round(np.corrcoef(x2,y2)[0,1],3)\n",
    "plt.scatter(x1,y1,color='red',label='Revenues from Active Customers-Corr:'+str(OneCorr))\n",
    "plt.scatter(x2,y2,color='blue',label='Revenues from Churned Customers-Corr:'+str(TwoCorr))\n",
    "plt.title('Relationship between a User status & the corresponding Revenue received from Calls')\n",
    "plt.xlabel('Number Of Calls')\n",
    "plt.ylabel('Revenue')\n",
    "plt.legend()\n",
    "plt.grid(True)\n",
    "plt.show()"
   ]
  },
  {
   "cell_type": "code",
   "execution_count": null,
   "metadata": {},
   "outputs": [],
   "source": [
    "#Average calls made,average revenue from SMS and Data services for their Active customers based on the different user types."
   ]
  },
  {
   "cell_type": "code",
   "execution_count": 85,
   "metadata": {},
   "outputs": [
    {
     "data": {
      "text/html": [
       "<div>\n",
       "<style scoped>\n",
       "    .dataframe tbody tr th:only-of-type {\n",
       "        vertical-align: middle;\n",
       "    }\n",
       "\n",
       "    .dataframe tbody tr th {\n",
       "        vertical-align: top;\n",
       "    }\n",
       "\n",
       "    .dataframe thead th {\n",
       "        text-align: right;\n",
       "    }\n",
       "</style>\n",
       "<table border=\"1\" class=\"dataframe\">\n",
       "  <thead>\n",
       "    <tr style=\"text-align: right;\">\n",
       "      <th></th>\n",
       "      <th>Calls_Made</th>\n",
       "      <th>Revenue_SMS</th>\n",
       "      <th>Revenue_Data</th>\n",
       "    </tr>\n",
       "    <tr>\n",
       "      <th>UserType</th>\n",
       "      <th></th>\n",
       "      <th></th>\n",
       "      <th></th>\n",
       "    </tr>\n",
       "  </thead>\n",
       "  <tbody>\n",
       "    <tr>\n",
       "      <th>2G</th>\n",
       "      <td>315.108696</td>\n",
       "      <td>24.088804</td>\n",
       "      <td>34.393207</td>\n",
       "    </tr>\n",
       "    <tr>\n",
       "      <th>3G</th>\n",
       "      <td>350.205323</td>\n",
       "      <td>28.148384</td>\n",
       "      <td>82.016578</td>\n",
       "    </tr>\n",
       "    <tr>\n",
       "      <th>Other</th>\n",
       "      <td>347.434483</td>\n",
       "      <td>30.782345</td>\n",
       "      <td>30.909345</td>\n",
       "    </tr>\n",
       "  </tbody>\n",
       "</table>\n",
       "</div>"
      ],
      "text/plain": [
       "          Calls_Made  Revenue_SMS  Revenue_Data\n",
       "UserType                                       \n",
       "2G        315.108696    24.088804     34.393207\n",
       "3G        350.205323    28.148384     82.016578\n",
       "Other     347.434483    30.782345     30.909345"
      ]
     },
     "execution_count": 85,
     "metadata": {},
     "output_type": "execute_result"
    }
   ],
   "source": [
    "dfSATO[['Calls_Made','Revenue_SMS','Revenue_Data']][dfSATO.Status=='Active'].groupby(dfSATO.UserType).mean()"
   ]
  },
  {
   "cell_type": "code",
   "execution_count": null,
   "metadata": {},
   "outputs": [],
   "source": [
    "#Average calls made,average revenue from SMS and Data services for their Churned customers based on the different user types."
   ]
  },
  {
   "cell_type": "code",
   "execution_count": 86,
   "metadata": {},
   "outputs": [
    {
     "data": {
      "text/html": [
       "<div>\n",
       "<style scoped>\n",
       "    .dataframe tbody tr th:only-of-type {\n",
       "        vertical-align: middle;\n",
       "    }\n",
       "\n",
       "    .dataframe tbody tr th {\n",
       "        vertical-align: top;\n",
       "    }\n",
       "\n",
       "    .dataframe thead th {\n",
       "        text-align: right;\n",
       "    }\n",
       "</style>\n",
       "<table border=\"1\" class=\"dataframe\">\n",
       "  <thead>\n",
       "    <tr style=\"text-align: right;\">\n",
       "      <th></th>\n",
       "      <th>Calls_Made</th>\n",
       "      <th>Revenue_SMS</th>\n",
       "      <th>Revenue_Data</th>\n",
       "    </tr>\n",
       "    <tr>\n",
       "      <th>UserType</th>\n",
       "      <th></th>\n",
       "      <th></th>\n",
       "      <th></th>\n",
       "    </tr>\n",
       "  </thead>\n",
       "  <tbody>\n",
       "    <tr>\n",
       "      <th>2G</th>\n",
       "      <td>109.394619</td>\n",
       "      <td>30.258610</td>\n",
       "      <td>30.858969</td>\n",
       "    </tr>\n",
       "    <tr>\n",
       "      <th>3G</th>\n",
       "      <td>166.506696</td>\n",
       "      <td>41.141272</td>\n",
       "      <td>98.633906</td>\n",
       "    </tr>\n",
       "    <tr>\n",
       "      <th>Other</th>\n",
       "      <td>121.237082</td>\n",
       "      <td>26.969544</td>\n",
       "      <td>24.649970</td>\n",
       "    </tr>\n",
       "  </tbody>\n",
       "</table>\n",
       "</div>"
      ],
      "text/plain": [
       "          Calls_Made  Revenue_SMS  Revenue_Data\n",
       "UserType                                       \n",
       "2G        109.394619    30.258610     30.858969\n",
       "3G        166.506696    41.141272     98.633906\n",
       "Other     121.237082    26.969544     24.649970"
      ]
     },
     "execution_count": 86,
     "metadata": {},
     "output_type": "execute_result"
    }
   ],
   "source": [
    "dfSATO[['Calls_Made','Revenue_SMS','Revenue_Data']][dfSATO.Status=='Churned'].groupby(dfSATO.UserType).mean()"
   ]
  },
  {
   "cell_type": "code",
   "execution_count": null,
   "metadata": {},
   "outputs": [],
   "source": [
    "#Relationship between the revenue received from SMS and revenue received from Data"
   ]
  },
  {
   "cell_type": "code",
   "execution_count": 87,
   "metadata": {},
   "outputs": [
    {
     "data": {
      "image/png": "[encoded data removed]",
      "text/plain": [
       "<Figure size 432x288 with 1 Axes>"
      ]
     },
     "metadata": {},
     "output_type": "display_data"
    }
   ],
   "source": [
    "# Scatterplot with 1 series\n",
    "x1 = dfSATO.Revenue_SMS\n",
    "y1 = dfSATO.Revenue_Data\n",
    "OneCorr = round(np.corrcoef(x1,y1)[0,1],3)\n",
    "plt.scatter(x1,y1,color='blue',label='Correlation b/w revenue from SMS and Data:'+str(OneCorr))\n",
    "plt.title('Relationship between the revenue received from SMS and revenue received from Data')\n",
    "plt.xlabel('Revenue from SMS')\n",
    "plt.ylabel('Revenue from Data')\n",
    "plt.legend()\n",
    "plt.grid(True)\n",
    "plt.show()"
   ]
  },
  {
   "cell_type": "code",
   "execution_count": 88,
   "metadata": {},
   "outputs": [],
   "source": [
    "#Writing the final dataframe to a .csv file for Part 2 of the project\n",
    "dfSATO.to_csv('Part2_InputDataFrame.csv')"
   ]
  }
 ],
 "metadata": {
  "kernelspec": {
   "display_name": "Python 3",
   "language": "python",
   "name": "python3"
  },
  "language_info": {
   "codemirror_mode": {
    "name": "ipython",
    "version": 3
   },
   "file_extension": ".py",
   "mimetype": "text/x-python",
   "name": "python",
   "nbconvert_exporter": "python",
   "pygments_lexer": "ipython3",
   "version": "3.6.5"
  }
 },
 "nbformat": 4,
 "nbformat_minor": 2
}
